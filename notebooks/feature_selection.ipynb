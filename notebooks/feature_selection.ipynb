{
 "cells": [
  {
   "cell_type": "code",
   "execution_count": 1,
   "metadata": {},
   "outputs": [
    {
     "name": "stderr",
     "output_type": "stream",
     "text": [
      "c:\\Users\\risch\\Anaconda3\\envs\\vitals\\Lib\\site-packages\\tqdm\\auto.py:21: TqdmWarning: IProgress not found. Please update jupyter and ipywidgets. See https://ipywidgets.readthedocs.io/en/stable/user_install.html\n",
      "  from .autonotebook import tqdm as notebook_tqdm\n"
     ]
    }
   ],
   "source": [
    "import numpy as np\n",
    "import matplotlib.pyplot as plt\n",
    "import shap\n",
    "import pandas as pd\n",
    "import yaml\n",
    "from typing import Literal\n",
    "\n",
    "from sklearn.inspection import permutation_importance\n",
    "from sklearn.ensemble import RandomForestClassifier\n",
    "from sklearn.model_selection import StratifiedKFold, KFold\n",
    "from sklearn.feature_selection import SelectKBest, SelectFromModel, f_classif, mutual_info_regression\n",
    "from sklearn.kernel_ridge import KernelRidge"
   ]
  },
  {
   "cell_type": "code",
   "execution_count": 2,
   "metadata": {},
   "outputs": [
    {
     "name": "stdout",
     "output_type": "stream",
     "text": [
      "Current working directory set to: C:\\Users\\risch\\Desktop\\GitHub\\VitalTrack\n"
     ]
    }
   ],
   "source": [
    "import os\n",
    "from pathlib import Path\n",
    "\n",
    "# Go up one directory level from the notebook's location\n",
    "project_root = Path().resolve().parent  # Navigate to the parent directory\n",
    "os.chdir(project_root)  # Set this as the working directory\n",
    "\n",
    "print(\"Current working directory set to:\", os.getcwd())"
   ]
  },
  {
   "cell_type": "code",
   "execution_count": 3,
   "metadata": {},
   "outputs": [],
   "source": [
    "# Hyperparameters\n",
    "SEED = 42\n",
    "N_SPLITS = 5\n",
    "\n",
    "# Fixed parameters\n",
    "NUM_CLF_LABELS = 11\n",
    "NUM_RGR_LABELS = 4"
   ]
  },
  {
   "cell_type": "code",
   "execution_count": 4,
   "metadata": {},
   "outputs": [
    {
     "name": "stdout",
     "output_type": "stream",
     "text": [
      "Number of Features: 172\n",
      "Number of Labels: 16\n"
     ]
    }
   ],
   "source": [
    "with open('config/paths.yaml', 'r') as file:\n",
    "    paths = yaml.load(file, Loader=yaml.FullLoader)\n",
    "\n",
    "with open('config/params.yaml', 'r') as file:\n",
    "    params = yaml.load(file, Loader=yaml.FullLoader)\n",
    "\n",
    "# Load the data\n",
    "X = pd.read_csv(paths[\"train\"][\"final_train_file\"])\n",
    "y = pd.read_csv(paths[\"train\"][\"train_labels\"])\n",
    "test_X = pd.read_csv(paths[\"test\"][\"final_test_file\"])\n",
    "\n",
    "print(f\"Number of Features: {len(X.columns)}\")\n",
    "print(f\"Number of Labels: {len(y.columns)}\")"
   ]
  },
  {
   "cell_type": "code",
   "execution_count": 5,
   "metadata": {},
   "outputs": [
    {
     "name": "stdout",
     "output_type": "stream",
     "text": [
      "RandomForestClassifier(class_weight='balanced', max_depth=32, n_estimators=200)\n",
      "KernelRidge(alpha=1.0, gamma=0.01, kernel='rbf')\n"
     ]
    }
   ],
   "source": [
    "clf_model = params[\"clf_model\"]\n",
    "regr_model = params[\"regr_model\"]\n",
    "\n",
    "clf_params = params[clf_model]\n",
    "regr_params = params[regr_model]\n",
    "\n",
    "clf_model_class = eval(clf_model)\n",
    "regr_model_class = eval(regr_model)\n",
    "\n",
    "# Instantiate the model\n",
    "clf_model = clf_model_class(**clf_params)\n",
    "regr_model = regr_model_class(**regr_params)\n",
    "\n",
    "print(clf_model)\n",
    "print(regr_model)"
   ]
  },
  {
   "cell_type": "code",
   "execution_count": 6,
   "metadata": {},
   "outputs": [],
   "source": [
    "def feature_selection(X, y, selector, model_class, model_params, splitter):\n",
    "    \"\"\"\n",
    "    Performs feature selection using Stratified K-Fold cross-validation and\n",
    "    returns the indices of the selected features.\n",
    "\n",
    "    Parameters:\n",
    "    - X: pd.DataFrame, input features\n",
    "    - y: pd.Series, target labels\n",
    "    - selector: feature selector (e.g., SelectFromModel, SelectKBest)\n",
    "    - model: sklearn model to train (e.g., LogisticRegression, RandomForestClassifier)\n",
    "    - model_params: dict, hyperparameters for the model\n",
    "    - splitter: sklearn splitter (e.g., StratifiedKFold, KFold)\n",
    "\n",
    "    Returns:\n",
    "    # - X_selected: pd.DataFrame, input features with selected features\n",
    "    - selected_indices: list, indices of the selected features\n",
    "    \"\"\"\n",
    "\n",
    "    cv_splits = splitter.split(X, y)\n",
    "\n",
    "    cv_scores = []\n",
    "    best_selector = None\n",
    "\n",
    "    for train_idx, val_idx in cv_splits:\n",
    "        X_train, X_val = X.iloc[train_idx], X.iloc[val_idx]\n",
    "        y_train, y_val = y.iloc[train_idx], y.iloc[val_idx]\n",
    "\n",
    "        # Fit the selector on the training data\n",
    "        selector.fit(X_train, y_train)\n",
    "\n",
    "        X_train_selected = selector.transform(X_train)\n",
    "        X_val_selected = selector.transform(X_val)\n",
    "\n",
    "        # Recreate the model (reset it) each time in the loop\n",
    "        if model_params is None:\n",
    "            model = model_class()  # Create model without parameters\n",
    "        else:\n",
    "            model = model_class(**model_params)  # Create model with parameters\n",
    "\n",
    "        # Fit the model on the selected features\n",
    "        model.fit(X_train_selected, y_train)\n",
    "\n",
    "        # Evaluate the model on the validation data\n",
    "        score = model.score(X_val_selected, y_val)\n",
    "        cv_scores.append(score)\n",
    "\n",
    "        # Keep track of the selector that gives the best score\n",
    "        if best_selector is None or score > max(cv_scores):\n",
    "            best_selector = selector\n",
    "\n",
    "    # Get the selected features based on the best selector\n",
    "    selected_indices = best_selector.get_support(indices=True)\n",
    "    # X_selected = best_selector.transform(X)\n",
    "\n",
    "    return selected_indices\n",
    "\n",
    "\n",
    "def create_feature_mask(\n",
    "    X, y, selector, model_class, model_params, splitter, out_file=None\n",
    "):\n",
    "    \"\"\"\n",
    "    Creates a mask of the selected features.\n",
    "\n",
    "    Parameters:\n",
    "    - X: pd.DataFrame, input features\n",
    "    - y: pd.DataFrame, target labels\n",
    "    - selector: feature selector (e.g., SelectFromModel, SelectKBest)\n",
    "    - model: sklearn model to train (e.g., LogisticRegression, RandomForestClassifier)\n",
    "    - model_params: dict, hyperparameters for the model\n",
    "    - splitter: sklearn splitter (e.g., StratifiedKFold, KFold)\n",
    "    - out_file: str, path to save the mask\n",
    "\n",
    "    Returns:\n",
    "    - mask: pd.DataFrame, boolean mask of the selected features\n",
    "    \"\"\"\n",
    "\n",
    "    # Initialize the mask DataFrame with all False (no feature selected)\n",
    "    mask_df = pd.DataFrame(False, index=y.columns, columns=X.columns)\n",
    "    mask_df.index.name = \"label\"\n",
    "\n",
    "    for label in y.columns:\n",
    "        selected_indices = feature_selection(\n",
    "            X=X,\n",
    "            y=y[label],\n",
    "            selector=selector,\n",
    "            model_class=model_class,\n",
    "            model_params=model_params,\n",
    "            splitter=splitter,\n",
    "        )\n",
    "        mask_df.loc[label, X.columns[selected_indices]] = True\n",
    "\n",
    "    if out_file is not None:\n",
    "        mask_df.to_csv(out_file, index=True)\n",
    "\n",
    "    return mask_df"
   ]
  },
  {
   "cell_type": "code",
   "execution_count": 7,
   "metadata": {},
   "outputs": [
    {
     "name": "stdout",
     "output_type": "stream",
     "text": [
      "Classifier mask file: data/processed/clf_feature_mask.csv\n",
      "Regressor mask file: data/processed/regr_feature_mask.csv\n"
     ]
    }
   ],
   "source": [
    "clf_mask_file = paths[\"clf_mask_file\"]\n",
    "regr_mask_file = paths[\"regr_mask_file\"]\n",
    "\n",
    "print(\"Classifier mask file:\", clf_mask_file)\n",
    "print(\"Regressor mask file:\", regr_mask_file)\n",
    "\n",
    "# For testing purposes\n",
    "# X = X.iloc[:1000, :]\n",
    "# y = y.iloc[:1000, :]\n",
    "\n",
    "# Remove the 'pid' column from the features and labels\n",
    "X.drop(columns='pid', inplace=True)\n",
    "y.drop(columns='pid', inplace=True)\n",
    "\n",
    "y_clf = y.iloc[:, :NUM_CLF_LABELS]\n",
    "y_regr = y.iloc[:, NUM_CLF_LABELS:]"
   ]
  },
  {
   "cell_type": "code",
   "execution_count": 8,
   "metadata": {},
   "outputs": [],
   "source": [
    "# Create a mask of the selected features for the classifiers\n",
    "clf_splitter = StratifiedKFold(n_splits=N_SPLITS, random_state=SEED, shuffle=True)\n",
    "clf_selector = SelectFromModel(clf_model, max_features=25)\n",
    "clf_mask = create_feature_mask(\n",
    "    X=X,\n",
    "    y=y_clf,\n",
    "    selector=clf_selector,\n",
    "    model_class=clf_model_class,\n",
    "    model_params=clf_params,\n",
    "    splitter=clf_splitter,\n",
    "    out_file=clf_mask_file,\n",
    ")"
   ]
  },
  {
   "cell_type": "code",
   "execution_count": null,
   "metadata": {},
   "outputs": [],
   "source": [
    "# Create a mask of the selected features for the regressors\n",
    "regr_splitter = KFold(n_splits=N_SPLITS, random_state=SEED, shuffle=True)\n",
    "regr_selector = SelectKBest(mutual_info_regression, k=30)\n",
    "regr_mask = create_feature_mask(\n",
    "    X=X,\n",
    "    y=y_regr,\n",
    "    selector=regr_selector,\n",
    "    model_class=regr_model_class,\n",
    "    model_params=regr_params,\n",
    "    splitter=regr_splitter,\n",
    "    out_file=regr_mask_file,\n",
    ")"
   ]
  }
 ],
 "metadata": {
  "kernelspec": {
   "display_name": "vitals",
   "language": "python",
   "name": "python3"
  },
  "language_info": {
   "codemirror_mode": {
    "name": "ipython",
    "version": 3
   },
   "file_extension": ".py",
   "mimetype": "text/x-python",
   "name": "python",
   "nbconvert_exporter": "python",
   "pygments_lexer": "ipython3",
   "version": "3.11.10"
  }
 },
 "nbformat": 4,
 "nbformat_minor": 2
}
